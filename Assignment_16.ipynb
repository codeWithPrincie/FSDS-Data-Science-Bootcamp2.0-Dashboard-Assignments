{
 "cells": [
  {
   "cell_type": "markdown",
   "id": "09a8f776",
   "metadata": {},
   "source": [
    "1.  Create a list called years_list, starting with the year of your birth, and each year thereafter until\n",
    "    the year of your fifth birthday. For example, if you were born in 1980. the list would be years_list =\n",
    "    [1980, 1981, 1982, 1983, 1984, 1985]."
   ]
  },
  {
   "cell_type": "code",
   "execution_count": 1,
   "id": "c79b9308",
   "metadata": {},
   "outputs": [
    {
     "name": "stdout",
     "output_type": "stream",
     "text": [
      "[2000, 2001, 2002, 2003, 2004, 2005]\n"
     ]
    }
   ],
   "source": [
    "birth_year = 2000 \n",
    "years_list = list(range(birth_year, birth_year+6))\n",
    "print(years_list)"
   ]
  },
  {
   "cell_type": "markdown",
   "id": "46812231",
   "metadata": {},
   "source": [
    "2.  In which year in years_list was your third birthday? Remember, you were 0 years of age for your\n",
    "    first year.\n",
    "    \n",
    "Ans. In years_list = [2000, 2001, 2002, 2003, 2004, 2005], the fourth element 2003 represents the year in which I turned 3      years old, because I was 0 years old in my first year."
   ]
  },
  {
   "cell_type": "markdown",
   "id": "54d2dcf5",
   "metadata": {},
   "source": [
    "3.  In the years list, which year were you the oldest?\n",
    "\n",
    "Ans. If we assume that the birth year is 2000, then the last year in the years_list is 2005, which is the year I turned 5        years old. Therefore, I was the oldest in the year 2005."
   ]
  },
  {
   "cell_type": "markdown",
   "id": "87096657",
   "metadata": {},
   "source": [
    "4.  Make a list called things with these three strings as elements: \"mozzarella\",\"cinderella\",\"salmonella\"."
   ]
  },
  {
   "cell_type": "code",
   "execution_count": 2,
   "id": "ff2d84b6",
   "metadata": {},
   "outputs": [
    {
     "name": "stdout",
     "output_type": "stream",
     "text": [
      "['mozzarella', 'cinderella', 'salmonella']\n"
     ]
    }
   ],
   "source": [
    "things = [\"mozzarella\", \"cinderella\", \"salmonella\"]\n",
    "print(things)"
   ]
  },
  {
   "cell_type": "markdown",
   "id": "232261f2",
   "metadata": {},
   "source": [
    "5.  Capitalize the element in things that refers to a person and then print the list. Did it change the\n",
    "    element in the list?\n",
    "    \n",
    "Ans. As we can see, the second element in the things list, which was \"cinderella\", has been capitalized to \"Cinderella\".        This means that the things list has been modified."
   ]
  },
  {
   "cell_type": "code",
   "execution_count": 3,
   "id": "f680e32c",
   "metadata": {},
   "outputs": [
    {
     "name": "stdout",
     "output_type": "stream",
     "text": [
      "['mozzarella', 'Cinderella', 'salmonella']\n"
     ]
    }
   ],
   "source": [
    "things = [\"mozzarella\", \"cinderella\", \"salmonella\"]\n",
    "things[1] = things[1].capitalize()\n",
    "print(things)"
   ]
  },
  {
   "cell_type": "markdown",
   "id": "d55dd6df",
   "metadata": {},
   "source": [
    "6.  Make a surprise list with the elements 'Groucho', 'Chico', and 'Harpo'.\n"
   ]
  },
  {
   "cell_type": "code",
   "execution_count": 4,
   "id": "9f142b72",
   "metadata": {},
   "outputs": [
    {
     "name": "stdout",
     "output_type": "stream",
     "text": [
      "['Groucho', 'Chico', 'Harpo']\n"
     ]
    }
   ],
   "source": [
    "surprise = ['Groucho', 'Chico', 'Harpo']\n",
    "print(surprise)"
   ]
  },
  {
   "cell_type": "markdown",
   "id": "0641be1f",
   "metadata": {},
   "source": [
    "7.  Lowercase the last element of the surprise list, reverse it, and then capitalize it."
   ]
  },
  {
   "cell_type": "code",
   "execution_count": 5,
   "id": "3df10eb5",
   "metadata": {},
   "outputs": [
    {
     "name": "stdout",
     "output_type": "stream",
     "text": [
      "['Groucho', 'Chico', 'Oprah']\n"
     ]
    }
   ],
   "source": [
    "surprise = ['Groucho', 'Chico', 'Harpo']\n",
    "last_element = surprise[-1]  # Get the last element\n",
    "last_element = last_element.lower()  # Lowercase the last element\n",
    "last_element = last_element[::-1]  # Reverse the last element\n",
    "last_element = last_element.capitalize()  # Capitalize the last element\n",
    "surprise[-1] = last_element  # Update the last element in the list\n",
    "print(surprise)"
   ]
  },
  {
   "cell_type": "markdown",
   "id": "0b83940f",
   "metadata": {},
   "source": [
    "8.  Make an English-to-French dictionary called e2f and print it. Here are your starter words: dog is\n",
    "    chien, cat is chat, and walrus is morse."
   ]
  },
  {
   "cell_type": "code",
   "execution_count": 6,
   "id": "926c7ec1",
   "metadata": {},
   "outputs": [
    {
     "name": "stdout",
     "output_type": "stream",
     "text": [
      "{'dog': 'chien', 'cat': 'chat', 'walrus': 'morse'}\n"
     ]
    }
   ],
   "source": [
    "e2f = {'dog': 'chien', 'cat': 'chat', 'walrus': 'morse'}\n",
    "print(e2f)"
   ]
  },
  {
   "cell_type": "markdown",
   "id": "8bae0966",
   "metadata": {},
   "source": [
    "9.  Write the French word for walrus in your three-word dictionary e2f."
   ]
  },
  {
   "cell_type": "code",
   "execution_count": 7,
   "id": "6cfab109",
   "metadata": {},
   "outputs": [
    {
     "name": "stdout",
     "output_type": "stream",
     "text": [
      "morse\n"
     ]
    }
   ],
   "source": [
    "e2f = {'dog': 'chien', 'cat': 'chat', 'walrus': 'morse'}\n",
    "french_word = e2f['walrus']\n",
    "print(french_word)"
   ]
  },
  {
   "cell_type": "markdown",
   "id": "d35bd181",
   "metadata": {},
   "source": [
    "10. Make a French-to-English dictionary called f2e from e2f. Use the items method."
   ]
  },
  {
   "cell_type": "code",
   "execution_count": 8,
   "id": "60f96b7f",
   "metadata": {},
   "outputs": [
    {
     "name": "stdout",
     "output_type": "stream",
     "text": [
      "{'chien': 'dog', 'chat': 'cat', 'morse': 'walrus'}\n"
     ]
    }
   ],
   "source": [
    "e2f = {'dog': 'chien', 'cat': 'chat', 'walrus': 'morse'}\n",
    "f2e = {french: english for english, french in e2f.items()}\n",
    "print(f2e)"
   ]
  },
  {
   "cell_type": "markdown",
   "id": "5cb11347",
   "metadata": {},
   "source": [
    "11. Print the English version of the French word chien using f2e."
   ]
  },
  {
   "cell_type": "code",
   "execution_count": 9,
   "id": "2c9eb003",
   "metadata": {},
   "outputs": [
    {
     "name": "stdout",
     "output_type": "stream",
     "text": [
      "dog\n"
     ]
    }
   ],
   "source": [
    "f2e = {'chien': 'dog', 'chat': 'cat', 'morse': 'walrus'}\n",
    "english_word = f2e['chien']\n",
    "print(english_word)"
   ]
  },
  {
   "cell_type": "markdown",
   "id": "b3668a86",
   "metadata": {},
   "source": [
    "12. Make and print a set of English words from the keys in e2f."
   ]
  },
  {
   "cell_type": "code",
   "execution_count": 10,
   "id": "59cfa892",
   "metadata": {},
   "outputs": [
    {
     "name": "stdout",
     "output_type": "stream",
     "text": [
      "{'dog', 'cat', 'walrus'}\n"
     ]
    }
   ],
   "source": [
    "e2f = {'dog': 'chien', 'cat': 'chat', 'walrus': 'morse'}\n",
    "english_words = set(e2f.keys())\n",
    "print(english_words)"
   ]
  },
  {
   "cell_type": "markdown",
   "id": "8c4acf6b",
   "metadata": {},
   "source": [
    "13. Make a multilevel dictionary called life. Use these strings for the topmost keys: 'animals', 'plants',\n",
    "    and 'other'. Make the 'animals' key refer to another dictionary with the keys 'cats', 'octopi', and 'emus'. Make the      'cats' key refer to a list of strings with the values 'Henri', 'Grumpy', and 'Lucy'. Make all the other keys refer to       empty dictionaries."
   ]
  },
  {
   "cell_type": "code",
   "execution_count": 11,
   "id": "7703590c",
   "metadata": {},
   "outputs": [
    {
     "name": "stdout",
     "output_type": "stream",
     "text": [
      "{'animals': {'cats': ['Henri', 'Grumpy', 'Lucy'], 'octopi': {}, 'emus': {}}, 'plants': {}, 'other': {}}\n"
     ]
    }
   ],
   "source": [
    "life = {\n",
    "    'animals': {\n",
    "        'cats': ['Henri', 'Grumpy', 'Lucy'],\n",
    "        'octopi': {},\n",
    "        'emus': {}\n",
    "    },\n",
    "    'plants': {},\n",
    "    'other': {}\n",
    "}\n",
    "print(life)"
   ]
  },
  {
   "cell_type": "markdown",
   "id": "2f65ef86",
   "metadata": {},
   "source": [
    "14. Print the top-level keys of life."
   ]
  },
  {
   "cell_type": "code",
   "execution_count": 12,
   "id": "0ee36725",
   "metadata": {},
   "outputs": [
    {
     "name": "stdout",
     "output_type": "stream",
     "text": [
      "dict_keys(['animals', 'plants', 'other'])\n"
     ]
    }
   ],
   "source": [
    "life = {\n",
    "    'animals': {\n",
    "        'cats': ['Henri', 'Grumpy', 'Lucy'],\n",
    "        'octopi': {},\n",
    "        'emus': {}\n",
    "    },\n",
    "    'plants': {},\n",
    "    'other': {}\n",
    "}\n",
    "top_keys = life.keys()\n",
    "print(top_keys)"
   ]
  },
  {
   "cell_type": "markdown",
   "id": "cde5fed9",
   "metadata": {},
   "source": [
    "15. Print the keys for life['animals']."
   ]
  },
  {
   "cell_type": "code",
   "execution_count": 13,
   "id": "1743c6dd",
   "metadata": {},
   "outputs": [
    {
     "name": "stdout",
     "output_type": "stream",
     "text": [
      "dict_keys(['cats', 'octopi', 'emus'])\n"
     ]
    }
   ],
   "source": [
    "life = {\n",
    "    'animals': {\n",
    "        'cats': ['Henri', 'Grumpy', 'Lucy'],\n",
    "        'octopi': {},\n",
    "        'emus': {}\n",
    "    },\n",
    "    'plants': {},\n",
    "    'other': {}\n",
    "}\n",
    "animal_keys = life['animals'].keys()\n",
    "print(animal_keys)"
   ]
  },
  {
   "cell_type": "markdown",
   "id": "11051580",
   "metadata": {},
   "source": [
    "16. Print the values for life['animals']['cats']"
   ]
  },
  {
   "cell_type": "code",
   "execution_count": 14,
   "id": "0b15603c",
   "metadata": {},
   "outputs": [
    {
     "name": "stdout",
     "output_type": "stream",
     "text": [
      "['Henri', 'Grumpy', 'Lucy']\n"
     ]
    }
   ],
   "source": [
    "life = {\n",
    "    'animals': {\n",
    "        'cats': ['Henri', 'Grumpy', 'Lucy'],\n",
    "        'octopi': {},\n",
    "        'emus': {}\n",
    "    },\n",
    "    'plants': {},\n",
    "    'other': {}\n",
    "}\n",
    "cat_values = life['animals']['cats']\n",
    "print(cat_values)\n"
   ]
  },
  {
   "cell_type": "code",
   "execution_count": null,
   "id": "46d36e72",
   "metadata": {},
   "outputs": [],
   "source": []
  }
 ],
 "metadata": {
  "kernelspec": {
   "display_name": "Python 3 (ipykernel)",
   "language": "python",
   "name": "python3"
  },
  "language_info": {
   "codemirror_mode": {
    "name": "ipython",
    "version": 3
   },
   "file_extension": ".py",
   "mimetype": "text/x-python",
   "name": "python",
   "nbconvert_exporter": "python",
   "pygments_lexer": "ipython3",
   "version": "3.9.12"
  }
 },
 "nbformat": 4,
 "nbformat_minor": 5
}
