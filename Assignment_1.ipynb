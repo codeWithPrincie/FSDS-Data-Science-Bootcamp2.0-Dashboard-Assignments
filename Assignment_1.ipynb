{
 "cells": [
  {
   "cell_type": "markdown",
   "id": "c02e1340",
   "metadata": {},
   "source": [
    "1.   In the below elements which of them are values or an expression? eg:- values can be\n",
    "     integer or string and expressions will be mathematical operators.\n",
    "\n",
    "Ans:   Values-\n",
    "        'hello',-87.8,6.\n",
    "       Expressions-\n",
    "        *, -, /, +."
   ]
  },
  {
   "cell_type": "markdown",
   "id": "edf94351",
   "metadata": {},
   "source": [
    "2.   What is the difference between string and variable?\n",
    "\n",
    "Ans:                       string                                                    variable\n",
    "        (1) A Variable is a store of information.                 (1) String is a type of information you would store in a \n",
    "                                                                      variable."
   ]
  },
  {
   "cell_type": "markdown",
   "id": "bc1ae32b",
   "metadata": {},
   "source": [
    "3.   Describe three different data types.\n",
    "\n",
    "Ans: Numeric - In Python, numeric data type represent the data which has numeric value. Numeric value can be integer, floating                number or even complex numbers. These values are defined as int, float and complex class in Python.\n",
    "               (1) Integers -  This value is represented by int class. It contains positive or negative whole numbers (without                                fraction or decimal). In Python there is no limit to how long an integer value can be\n",
    "               (2) Float - This value is represented by float class. It is a real number with floating point representation. It                            is specified by a decimal point. Optionally, the character e or E followed by a positive\n",
    "                           or negative integer may be appended to specify scientific notation.\n",
    "               (3) Complex Numbers – Complex number is represented by complex class. It is specified as (real part) +                                                (imaginary part)j. For example – 2+3j.\n",
    "     Sequence type - In Python, sequence is the ordered collection of similar or different data types. Sequences allows to                          store multiple values in an organized and efficient fashion. There are several sequence types in Python\n",
    "                (1) String - In Python, Strings are arrays of bytes representing Unicode characters. A string is a collection                                of one or more characters put in a single quote, double-quote or triple quote. In python \n",
    "                             there is no character data type, a character is a string of length one. It is represented by str                                class.\n",
    "                (2) list - Lists are just like the arrays, declared in other languages which is a ordered collection of data.                              It is very flexible as the items in a list do not need to be of the same type.\n",
    "                (3) Tuple - Just like list, tuple is also an ordered collection of Python objects. The only difference between                             tuple and list is that tuples are immutable i.e. tuples cannot be modified after it is created. \n",
    "                            It is represented by tuple class.\n",
    "     Boolean - Data type with one of the two built-in values, True or False. Boolean objects that are equal to True are truthy                (true), and those equal to False are falsy (false). But non-Boolean objects can be evaluated in \n",
    "               Boolean context as well and determined to be true or false. It is denoted by the class bool."
   ]
  },
  {
   "cell_type": "markdown",
   "id": "06e998bd",
   "metadata": {},
   "source": [
    "4.   What is an expression made up of? What do all expressions do?\n",
    "\n",
    "Ans: An expression is a combination of operators, constants and variables. An expression may consist of one or more operands,        and zero or more operators to produce a value."
   ]
  },
  {
   "cell_type": "markdown",
   "id": "16f86f85",
   "metadata": {},
   "source": [
    "5.   This assignment statements, like spam = 10. What is the difference between an\n",
    "     expression and a statement?\n",
    "    \n",
    "Ans: An expression evaluates to a single value. A statement does not."
   ]
  },
  {
   "cell_type": "markdown",
   "id": "9d8284af",
   "metadata": {},
   "source": [
    "6.   After running the following code, what does the variable bacon contain?\n",
    "     bacon = 22\n",
    "     bacon + 1\n",
    "     \n",
    "Ans: The bacon variable is set to 20. The bacon + 1 expression does not reassign the value in bacon (that would need an              assignment statement: bacon = bacon + 1)"
   ]
  },
  {
   "cell_type": "markdown",
   "id": "23a7a189",
   "metadata": {},
   "source": [
    "7.   What should the values of the following two terms be?\n",
    "     'spam' + 'spamspam';\n",
    "     'spam' * 3\n",
    "     \n",
    "Ans: Both expressions evaluate to the string 'spamspamspam'\n"
   ]
  },
  {
   "cell_type": "markdown",
   "id": "8ca6a082",
   "metadata": {},
   "source": [
    "8.   Why is eggs a valid variable name while 100 is invalid?\n",
    "\n",
    "Ans: Variable names cannot begin with a number."
   ]
  },
  {
   "cell_type": "markdown",
   "id": "08ff0f5a",
   "metadata": {},
   "source": [
    "9.   What three functions can be used to get the integer, floating-point number, or string version of a value?\n",
    "\n",
    "Ans: The int(), float(), and str() functions will evaluate to the integer, floating-point number, and string versions of the        value passed to them."
   ]
  },
  {
   "cell_type": "markdown",
   "id": "48a114b0",
   "metadata": {},
   "source": [
    "10.  Why does this expression cause an error? How can you fix it? \n",
    "     'I have eaten' + 99 + 'burritos.'\n",
    "Ans: The expression causes an error because 99 is an integer, and only strings can be concatenated to other strings with the +      operator. The correct way is I have eaten ' + str(99) + ' burritos.'."
   ]
  }
 ],
 "metadata": {
  "kernelspec": {
   "display_name": "Python 3 (ipykernel)",
   "language": "python",
   "name": "python3"
  },
  "language_info": {
   "codemirror_mode": {
    "name": "ipython",
    "version": 3
   },
   "file_extension": ".py",
   "mimetype": "text/x-python",
   "name": "python",
   "nbconvert_exporter": "python",
   "pygments_lexer": "ipython3",
   "version": "3.9.12"
  }
 },
 "nbformat": 4,
 "nbformat_minor": 5
}
