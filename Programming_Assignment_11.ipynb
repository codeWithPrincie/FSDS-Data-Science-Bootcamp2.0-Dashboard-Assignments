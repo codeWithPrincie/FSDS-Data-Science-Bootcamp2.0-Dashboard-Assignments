{
 "cells": [
  {
   "cell_type": "markdown",
   "id": "f24e17d7",
   "metadata": {},
   "source": [
    "1. Write a Python program to find words which are greater than given length k?"
   ]
  },
  {
   "cell_type": "code",
   "execution_count": 2,
   "id": "e81040e9",
   "metadata": {},
   "outputs": [
    {
     "name": "stdout",
     "output_type": "stream",
     "text": [
      "Enter a string: Omkar is my name\n",
      "Enter a length: 2\n",
      "Words greater than length 2 :\n",
      "Omkar\n",
      "name\n"
     ]
    }
   ],
   "source": [
    "string = input(\"Enter a string: \")\n",
    "k = int(input(\"Enter a length: \"))\n",
    "\n",
    "words = string.split()\n",
    "\n",
    "print(\"Words greater than length\", k, \":\")\n",
    "for word in words:\n",
    "    if len(word) > k:\n",
    "        print(word)"
   ]
  },
  {
   "cell_type": "markdown",
   "id": "62a78261",
   "metadata": {},
   "source": [
    "2. Write a Python program for removing i-th character from a string?"
   ]
  },
  {
   "cell_type": "code",
   "execution_count": 3,
   "id": "45eb80aa",
   "metadata": {},
   "outputs": [
    {
     "name": "stdout",
     "output_type": "stream",
     "text": [
      "Enter a string: Omkar dighe\n",
      "Enter an index to remove (0-indexed): 4\n",
      "Updated string: Omka dighe\n"
     ]
    }
   ],
   "source": [
    "string = input(\"Enter a string: \")\n",
    "i = int(input(\"Enter an index to remove (0-indexed): \"))\n",
    "\n",
    "new_string = string[:i] + string[i+1:]\n",
    "\n",
    "print(\"Updated string:\", new_string)"
   ]
  },
  {
   "cell_type": "markdown",
   "id": "d4055332",
   "metadata": {},
   "source": [
    "3. Write a Python program to split and join a string?"
   ]
  },
  {
   "cell_type": "code",
   "execution_count": 4,
   "id": "a51ce0b6",
   "metadata": {},
   "outputs": [
    {
     "name": "stdout",
     "output_type": "stream",
     "text": [
      "Enter a string: Full stack data science\n",
      "Joined string: Full-stack-data-science\n"
     ]
    }
   ],
   "source": [
    "string = input(\"Enter a string: \")\n",
    "\n",
    "words = string.split()\n",
    "\n",
    "delimiter = \"-\"\n",
    "joined_string = delimiter.join(words)\n",
    "\n",
    "print(\"Joined string:\", joined_string)"
   ]
  },
  {
   "cell_type": "markdown",
   "id": "9432e33d",
   "metadata": {},
   "source": [
    "4. Write a Python to check if a given string is binary string or not?"
   ]
  },
  {
   "cell_type": "code",
   "execution_count": 5,
   "id": "9dd3a58e",
   "metadata": {},
   "outputs": [
    {
     "name": "stdout",
     "output_type": "stream",
     "text": [
      "Enter a string: Full stack data science\n",
      "The string is not a binary string\n"
     ]
    }
   ],
   "source": [
    "string = input(\"Enter a string: \")\n",
    "\n",
    "valid_binary_digits = {\"0\", \"1\"}\n",
    "\n",
    "is_binary = all(c in valid_binary_digits for c in string)\n",
    "\n",
    "if is_binary:\n",
    "    print(\"The string is a binary string\")\n",
    "else:\n",
    "    print(\"The string is not a binary string\")"
   ]
  },
  {
   "cell_type": "markdown",
   "id": "225ad471",
   "metadata": {},
   "source": [
    "5. Write a Python program to find uncommon words from two Strings?"
   ]
  },
  {
   "cell_type": "code",
   "execution_count": 6,
   "id": "705370fa",
   "metadata": {},
   "outputs": [
    {
     "name": "stdout",
     "output_type": "stream",
     "text": [
      "Enter the first string: My name is Omkar\n",
      "Enter the second string: Omkar is doing data science course\n",
      "Uncommon words: {'course', 'doing', 'science', 'data', 'name', 'My'}\n"
     ]
    }
   ],
   "source": [
    "string1 = input(\"Enter the first string: \")\n",
    "string2 = input(\"Enter the second string: \")\n",
    "\n",
    "words1 = string1.split()\n",
    "words2 = string2.split()\n",
    "\n",
    "uncommon_words = set(words1).symmetric_difference(set(words2))\n",
    "\n",
    "print(\"Uncommon words:\", uncommon_words)"
   ]
  },
  {
   "cell_type": "markdown",
   "id": "49bc4c14",
   "metadata": {},
   "source": [
    "6. Write a Python to find all duplicate characters in string?"
   ]
  },
  {
   "cell_type": "code",
   "execution_count": 7,
   "id": "029abf9d",
   "metadata": {},
   "outputs": [
    {
     "name": "stdout",
     "output_type": "stream",
     "text": [
      "Enter a string: Python programming\n",
      "Duplicate characters: {'o', 'm', 'n', 'r', 'g'}\n"
     ]
    }
   ],
   "source": [
    "string = input(\"Enter a string: \")\n",
    "\n",
    "duplicate_chars = set()\n",
    "\n",
    "for char in string:\n",
    "    if string.count(char) > 1:\n",
    "        duplicate_chars.add(char)\n",
    "\n",
    "print(\"Duplicate characters:\", duplicate_chars)"
   ]
  },
  {
   "cell_type": "markdown",
   "id": "933babbc",
   "metadata": {},
   "source": [
    "7. Write a Python Program to check if a string contains any special character?"
   ]
  },
  {
   "cell_type": "code",
   "execution_count": 8,
   "id": "0de7fe77",
   "metadata": {},
   "outputs": [
    {
     "name": "stdout",
     "output_type": "stream",
     "text": [
      "Enter a string: Full stack % data science\n",
      "String contains special characters.\n"
     ]
    }
   ],
   "source": [
    "import re\n",
    "\n",
    "string = input(\"Enter a string: \")\n",
    "\n",
    "pattern = re.compile('[\\W_]+')\n",
    "\n",
    "if pattern.search(string):\n",
    "    print(\"String contains special characters.\")\n",
    "else:\n",
    "    print(\"String does not contain any special characters.\")"
   ]
  },
  {
   "cell_type": "code",
   "execution_count": null,
   "id": "70665b59",
   "metadata": {},
   "outputs": [],
   "source": []
  }
 ],
 "metadata": {
  "kernelspec": {
   "display_name": "Python 3 (ipykernel)",
   "language": "python",
   "name": "python3"
  },
  "language_info": {
   "codemirror_mode": {
    "name": "ipython",
    "version": 3
   },
   "file_extension": ".py",
   "mimetype": "text/x-python",
   "name": "python",
   "nbconvert_exporter": "python",
   "pygments_lexer": "ipython3",
   "version": "3.9.12"
  }
 },
 "nbformat": 4,
 "nbformat_minor": 5
}
