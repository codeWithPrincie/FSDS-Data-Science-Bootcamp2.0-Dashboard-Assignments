{
 "cells": [
  {
   "cell_type": "markdown",
   "id": "8d214312",
   "metadata": {},
   "source": [
    "1.   In what modes should the PdfFileReader() and PdfFileWriter() File objects will be opened?\n",
    "\n",
    "Ans: These files will be opened in binary mode., read binary (rb) for PdfFileREader() and write binary (wb) PdfFileWriter()"
   ]
  },
  {
   "cell_type": "markdown",
   "id": "306eb3cd",
   "metadata": {},
   "source": [
    "2.   From a PdfFileReader object, how do you get a Page object for page 5?\n",
    "\n",
    "Ans:  Calling getPage(4) will return a Page object for page 5 since page 0 is the first page"
   ]
  },
  {
   "cell_type": "code",
   "execution_count": null,
   "id": "d2c9bc82",
   "metadata": {},
   "outputs": [],
   "source": [
    "import PyPDF2 as pdf\n",
    "\n",
    "pdfFileObj = open(\"cardealer.pdf\",'rb')\n",
    "pdfReader = pdf.PdfFileReader(pdfFileObj)\n",
    "pageObj = pdfReader.getPage(4)\n",
    "pageObj.extractText()"
   ]
  },
  {
   "cell_type": "markdown",
   "id": "7e082aa6",
   "metadata": {},
   "source": [
    "3.   What PdfFileReader variable stores the number of pages in the PDF document?\n",
    "\n"
   ]
  },
  {
   "cell_type": "code",
   "execution_count": null,
   "id": "99ab5a0a",
   "metadata": {},
   "outputs": [],
   "source": [
    "import PyPDF2 as pdf  \n",
    "\n",
    "##  storing no of pages i n pdf document\n",
    "\n",
    "pdfFileObj = open(\"cardealer.pdf\",'rb')\n",
    "pdfReader = pdf.PdfFileReader(pdfFileObj)\n",
    "pdfReader.numPages"
   ]
  },
  {
   "cell_type": "markdown",
   "id": "392c1a02",
   "metadata": {},
   "source": [
    "4.   If a PdfFileReader object’s PDF is encrypted with the password swordfish, what must you do\n",
    "     before you can obtain Page objects from it?\n",
    "     \n",
    "Ans: Before we obtain the page object, the pdf has to be decrypted by calling .decrypt('swordfish')"
   ]
  },
  {
   "cell_type": "markdown",
   "id": "b19b7542",
   "metadata": {},
   "source": [
    "5.   What methods do you use to rotate a page?\n",
    "\n",
    "Ans: pageObj.rotateClockwise(180)\n",
    "     The rotateClockwise() and rotateCounterClockwise() methods. The degrees to rotate is passed as an integer argument"
   ]
  },
  {
   "cell_type": "markdown",
   "id": "a18f77be",
   "metadata": {},
   "source": [
    "6.   What is the difference between a Run object and a Paragraph object?\n",
    "\n",
    "Ans: Paragraph Object : A document contains multiple paragraphs. A paragraph begins on a new line and contains multiple\n",
    "     runs. The Document object contains a list of Paragraph objects for the paragraphs in the document. (A new paragraph begins      whenever the user presses ENTER or RETURN while typing in a Word document.)\n",
    "     Run Objects : Runs are contiguous groups of characters within a paragraph with the same style"
   ]
  },
  {
   "cell_type": "markdown",
   "id": "85550f59",
   "metadata": {},
   "source": [
    "7.   How do you obtain a list of Paragraph objects for a Document object that’s stored in a variable\n",
    "     named doc?\n",
    "     \n",
    "Ans: By using doc.paragraphs"
   ]
  },
  {
   "cell_type": "code",
   "execution_count": null,
   "id": "ecc273f3",
   "metadata": {},
   "outputs": [],
   "source": [
    "#!pip install python-docx\n",
    "import docx\n",
    "\n",
    "doc = docx.Document('abc.docx')\n",
    "doc.paragraphs\n",
    "#By using doc.paragraphs"
   ]
  },
  {
   "cell_type": "markdown",
   "id": "bf199ded",
   "metadata": {},
   "source": [
    "8.   What type of object has bold, underline, italic, strike, and outline variables?\n",
    "\n",
    "Ans: A Run object has bold, underline,italic,strike and outline variables"
   ]
  },
  {
   "cell_type": "markdown",
   "id": "0c88ab05",
   "metadata": {},
   "source": [
    "9.   What is the difference between False, True, and None for the bold variable?\n",
    "\n",
    "Ans: True (the attribute is always enabled, no matter what other styles are applied to the run),\n",
    "     False (the attribute is always disabled),\n",
    "     None (defaults to whatever the run’s style is set to)\n",
    "     True always makes the Run object bolded and False makes it always not bolded, no matter what the style’s bold setting is.      None will make the Run object just use the style’s bold setting."
   ]
  },
  {
   "cell_type": "markdown",
   "id": "55ec0209",
   "metadata": {},
   "source": [
    "10.  How do you create a Document object for a new Word document?\n",
    "\n",
    "Ans: By Calling the docx.Document() function."
   ]
  },
  {
   "cell_type": "markdown",
   "id": "2d80e036",
   "metadata": {},
   "source": [
    "11.  How do you add a paragraph with the text 'Hello, there!' to a Document object stored in a\n",
    "     variable named doc?\n",
    "     \n",
    "Ans: "
   ]
  },
  {
   "cell_type": "code",
   "execution_count": null,
   "id": "c0bc1095",
   "metadata": {},
   "outputs": [],
   "source": [
    "import docx\n",
    "doc = docx.Document()\n",
    "\n",
    "doc.add_paragraph('Hello there!')\n",
    "doc.save('hellothere.docx')"
   ]
  },
  {
   "cell_type": "markdown",
   "id": "ebbf9be0",
   "metadata": {},
   "source": [
    "12.  What integers represent the levels of headings available in Word documents?\n",
    "\n",
    "Ans: integer from 0 to 4.\n",
    "     The arguments to add_heading() are a string of the heading text and an integer from 0 to 4. The integer 0 makes the            heading the Title style, which is used for the top of the document. Integers 1 to 4 are for various heading levels, with 1      being the main heading and 4 the lowest subheading"
   ]
  }
 ],
 "metadata": {
  "kernelspec": {
   "display_name": "Python 3 (ipykernel)",
   "language": "python",
   "name": "python3"
  },
  "language_info": {
   "codemirror_mode": {
    "name": "ipython",
    "version": 3
   },
   "file_extension": ".py",
   "mimetype": "text/x-python",
   "name": "python",
   "nbconvert_exporter": "python",
   "pygments_lexer": "ipython3",
   "version": "3.9.12"
  }
 },
 "nbformat": 4,
 "nbformat_minor": 5
}
