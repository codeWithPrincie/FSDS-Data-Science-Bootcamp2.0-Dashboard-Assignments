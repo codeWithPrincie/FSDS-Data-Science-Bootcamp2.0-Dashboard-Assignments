{
 "cells": [
  {
   "cell_type": "markdown",
   "id": "f75c1b6a",
   "metadata": {},
   "source": [
    "1. Write a Python program to convert kilometers to miles?"
   ]
  },
  {
   "cell_type": "code",
   "execution_count": 1,
   "id": "6b718e8b",
   "metadata": {},
   "outputs": [
    {
     "name": "stdout",
     "output_type": "stream",
     "text": [
      "Enter the distance in kilometer: 200\n",
      "The converted value of 200 kilometer in miles is : 124.27420000000001 miles\n"
     ]
    }
   ],
   "source": [
    "a=int(input(\"Enter the distance in kilometer: \"))\n",
    "\n",
    "print(f\"The converted value of {a} kilometer in miles is : {a*0.621371} miles\")\n",
    "     "
   ]
  },
  {
   "cell_type": "markdown",
   "id": "484bdf8b",
   "metadata": {},
   "source": [
    "2. Write a Python program to convert Celsius to Fahrenheit?"
   ]
  },
  {
   "cell_type": "code",
   "execution_count": 2,
   "id": "664b3939",
   "metadata": {},
   "outputs": [
    {
     "name": "stdout",
     "output_type": "stream",
     "text": [
      "Enter the temperature in celsius: 20\n",
      "The converted value of 20 degree celsius in fahrenheit is : 68.0 fahrenheit\n"
     ]
    }
   ],
   "source": [
    "a=int(input(\"Enter the temperature in celsius: \"))\n",
    "\n",
    "print(f\"The converted value of {a} degree celsius in fahrenheit is : {(a*1.8)+32} fahrenheit\")"
   ]
  },
  {
   "cell_type": "markdown",
   "id": "0048d315",
   "metadata": {},
   "source": [
    "3. Write a Python program to display calendar?"
   ]
  },
  {
   "cell_type": "code",
   "execution_count": 3,
   "id": "02e54377",
   "metadata": {},
   "outputs": [
    {
     "name": "stdout",
     "output_type": "stream",
     "text": [
      "Enter year: 2000\n",
      "Enter month(like jan=1, feb=2 etc): 5\n",
      "   \n",
      "      May 2000\n",
      "Mo Tu We Th Fr Sa Su\n",
      " 1  2  3  4  5  6  7\n",
      " 8  9 10 11 12 13 14\n",
      "15 16 17 18 19 20 21\n",
      "22 23 24 25 26 27 28\n",
      "29 30 31\n",
      "\n"
     ]
    }
   ],
   "source": [
    "import calendar\n",
    "\n",
    "# To take month and year input from the user\n",
    "year = int(input(\"Enter year: \"))\n",
    "month = int(input(\"Enter month(like jan=1, feb=2 etc): \"))\n",
    "\n",
    "print(\"   \")\n",
    "# display the calendar\n",
    "print(calendar.month(year, month))\n",
    "     "
   ]
  },
  {
   "cell_type": "markdown",
   "id": "7a2e87aa",
   "metadata": {},
   "source": [
    "4. Write a Python program to solve quadratic equation?"
   ]
  },
  {
   "cell_type": "code",
   "execution_count": 4,
   "id": "e744a687",
   "metadata": {},
   "outputs": [
    {
     "name": "stdout",
     "output_type": "stream",
     "text": [
      "Enter the first number: 12\n",
      "Enter the second number: 32\n",
      "Enter the third number: 20\n",
      "The solution are 0 and 1':((-1.6666666666666667+0j), (-1+0j))\n"
     ]
    }
   ],
   "source": [
    "# Solve the quadratic equation ax**2 + bx + c = 0\n",
    "\n",
    "# import complex math module\n",
    "import cmath\n",
    "a=int(input(\"Enter the first number: \"))\n",
    "b=int(input(\"Enter the second number: \"))\n",
    "c=int(input(\"Enter the third number: \"))\n",
    "\n",
    "# calculate the discriminant\n",
    "d = (b**2) - (4*a*c)\n",
    "\n",
    "# find two solutions\n",
    "sol1 = (-b-cmath.sqrt(d))/(2*a)\n",
    "sol2 = (-b+cmath.sqrt(d))/(2*a)\n",
    "\n",
    "print(f\"The solution are {0} and {1}':{sol1,sol2}\")\n",
    "     "
   ]
  },
  {
   "cell_type": "markdown",
   "id": "2dc8c389",
   "metadata": {},
   "source": [
    "5. Write a Python program to swap two variables without temp variable?"
   ]
  },
  {
   "cell_type": "code",
   "execution_count": 5,
   "id": "36a0ae9d",
   "metadata": {},
   "outputs": [
    {
     "name": "stdout",
     "output_type": "stream",
     "text": [
      "Enter the first number: 12\n",
      "Enter the second number: 11\n",
      "The numbers before swapping are: 12 and 11\n",
      "The numbers after swapping are: 11 and 12\n"
     ]
    }
   ],
   "source": [
    "a=int(input(\"Enter the first number: \"))\n",
    "b=int(input(\"Enter the second number: \"))\n",
    "print(f\"The numbers before swapping are: {a} and {b}\")\n",
    "a,b=b,a\n",
    "\n",
    "print(f\"The numbers after swapping are: {a} and {b}\")\n"
   ]
  },
  {
   "cell_type": "code",
   "execution_count": null,
   "id": "aa619b34",
   "metadata": {},
   "outputs": [],
   "source": []
  }
 ],
 "metadata": {
  "kernelspec": {
   "display_name": "Python 3 (ipykernel)",
   "language": "python",
   "name": "python3"
  },
  "language_info": {
   "codemirror_mode": {
    "name": "ipython",
    "version": 3
   },
   "file_extension": ".py",
   "mimetype": "text/x-python",
   "name": "python",
   "nbconvert_exporter": "python",
   "pygments_lexer": "ipython3",
   "version": "3.9.12"
  }
 },
 "nbformat": 4,
 "nbformat_minor": 5
}
