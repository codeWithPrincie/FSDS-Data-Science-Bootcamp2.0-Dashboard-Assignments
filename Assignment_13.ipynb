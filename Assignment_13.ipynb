{
 "cells": [
  {
   "cell_type": "markdown",
   "id": "490f83a0",
   "metadata": {},
   "source": [
    "1.   What advantages do Excel spreadsheets have over CSV spreadsheets?\n",
    "\n",
    "Ans.The Advantages of Excel over CSV are:\n",
    "\n",
    "    Excel (XLS and XLSX) file formats are better for storing and analysing complex data.\n",
    "    An Excel not only stores data but can also do operations on the data using macros, formulas etc\n",
    "    CSV files are plain-text files, Does not contain formatting, formulas, macros, etc. It is also known as flat files"
   ]
  },
  {
   "cell_type": "markdown",
   "id": "63bc857d",
   "metadata": {},
   "source": [
    "2.  What do you pass to csv.reader() and csv.writer() to create reader and writer objects?"
   ]
  },
  {
   "cell_type": "code",
   "execution_count": 4,
   "id": "d8a22a02",
   "metadata": {},
   "outputs": [
    {
     "name": "stdout",
     "output_type": "stream",
     "text": [
      "['', 'YEAR', 'Y', 'W', 'R', 'L', 'K']\n",
      "['26', '1974', '19.305', '1.131', '0.2664', '5.729', '9.508']\n",
      "['27', '1975', '18.721', '1.247', '0.2301', '5.722', '9.062']\n",
      "['28', '1976', '19.25', '1.375', '0.3452', '5.762', '8.262']\n",
      "['29', '1977', '20.647', '1.544', '0.4508', '5.877', '7.474']\n",
      "['30', '1978', '22.726', '1.703', '0.5877', '6.108', '7.104']\n",
      "['31', '1979', '23.619', '1.779', '0.5346', '6.852', '6.874']\n"
     ]
    }
   ],
   "source": [
    "import csv\n",
    "with open('test1.csv','r') as file:\n",
    "    csv_file = csv.reader(file,delimiter=',')\n",
    "    for ele in csv_file:\n",
    "        print(ele)"
   ]
  },
  {
   "cell_type": "markdown",
   "id": "44424707",
   "metadata": {},
   "source": [
    "3.   What modes do File objects for reader and writer objects need to be opened in?\n",
    "\n",
    "Ans. For csv.reader(iterable_file_object), the file objects needed to be opened in read mode mode='r' Whereas for                csv.writer(iterable_file_object) the file objects needed to be opened in write mode mode='w'"
   ]
  },
  {
   "cell_type": "markdown",
   "id": "305e4d35",
   "metadata": {},
   "source": [
    "4.   What method takes a list argument and writes it to a CSV file?\n",
    "\n",
    "Ans. csv.writer class provides two methods for writing to CSV. They are writerow() and writerows(). writerow() method            writes a single row at a time. Whereas writerows() method is used to write multiple rows at a time.m"
   ]
  },
  {
   "cell_type": "markdown",
   "id": "b6f99bb4",
   "metadata": {},
   "source": [
    "5.   What do the keyword arguments delimiter and line terminator do?\n",
    "\n",
    "Ans. Lets take the example of a csv file:\n",
    "     First Name, Last Name, Age\n",
    "     Mano, Vishnu, 24\n",
    "     Vishnu, Vardhan, 21\n",
    "     Here ',' is Delimiter. We can use any Character as per our needs if required. Similarly Line Terminator comes at end        of line by default it is newline and can be changed accourding to Requirement."
   ]
  },
  {
   "cell_type": "markdown",
   "id": "12ad3a79",
   "metadata": {},
   "source": [
    "6.   What function takes a string of JSON data and returns a Python data structure?\n",
    "\n",
    "Ans. loads() method takes a string of JSON data and returns a Python data structure"
   ]
  },
  {
   "cell_type": "markdown",
   "id": "4ba2e1e8",
   "metadata": {},
   "source": [
    "7.   What function takes a Python data structure and returns a string of JSON data?\n",
    "\n",
    "Ans.   dumps() method takes a python data structure and returns a string of JSON data"
   ]
  }
 ],
 "metadata": {
  "kernelspec": {
   "display_name": "Python 3 (ipykernel)",
   "language": "python",
   "name": "python3"
  },
  "language_info": {
   "codemirror_mode": {
    "name": "ipython",
    "version": 3
   },
   "file_extension": ".py",
   "mimetype": "text/x-python",
   "name": "python",
   "nbconvert_exporter": "python",
   "pygments_lexer": "ipython3",
   "version": "3.9.12"
  }
 },
 "nbformat": 4,
 "nbformat_minor": 5
}
