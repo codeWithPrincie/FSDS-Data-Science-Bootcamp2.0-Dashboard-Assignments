{
 "cells": [
  {
   "cell_type": "markdown",
   "id": "3cc1ec1f",
   "metadata": {},
   "source": [
    "Question1. \n",
    "Write a function that stutters a word as if someone is struggling to read it. The\n",
    "first two letters are repeated twice with an ellipsis ... and space after each, and then the\n",
    "word is pronounced with a question mark ?.\n",
    "\n",
    "Hint :- Assume all input is in lower case and at least two characters long."
   ]
  },
  {
   "cell_type": "code",
   "execution_count": 1,
   "id": "0267261e",
   "metadata": {},
   "outputs": [
    {
     "name": "stdout",
     "output_type": "stream",
     "text": [
      "he... he... hello?\n"
     ]
    }
   ],
   "source": [
    "def stutter(word):\n",
    "    return word[:2] + \"... \" + word[:2] + \"... \" + word + \"?\"\n",
    "\n",
    "print(stutter(\"hello\"))"
   ]
  },
  {
   "cell_type": "markdown",
   "id": "e4717dbf",
   "metadata": {},
   "source": [
    "Question 2.\n",
    "Create a function that takes an angle in radians and returns the corresponding\n",
    "angle in degrees rounded to one decimal place."
   ]
  },
  {
   "cell_type": "code",
   "execution_count": 2,
   "id": "0367743b",
   "metadata": {},
   "outputs": [
    {
     "name": "stdout",
     "output_type": "stream",
     "text": [
      "45.0\n"
     ]
    }
   ],
   "source": [
    "import math\n",
    "\n",
    "def radians_to_degrees(rad):\n",
    "    return round(rad * (180 / math.pi), 1)\n",
    "\n",
    "# example usage\n",
    "print(radians_to_degrees(0.7854))"
   ]
  },
  {
   "cell_type": "markdown",
   "id": "440dd2e6",
   "metadata": {},
   "source": [
    "Question 3. \n",
    "In this challenge, establish if a given integer num is a Curzon number. If 1 plus\n",
    "2 elevated to num is exactly divisible by 1 plus 2 multiplied by num, then num is a Curzon\n",
    "number.\n",
    "Given a non-negative integer num, implement a function that returns True if num is a Curzon\n",
    "number, or False otherwise."
   ]
  },
  {
   "cell_type": "code",
   "execution_count": 3,
   "id": "2ccb4318",
   "metadata": {},
   "outputs": [
    {
     "name": "stdout",
     "output_type": "stream",
     "text": [
      "True\n"
     ]
    }
   ],
   "source": [
    "def is_curzon_number(num):\n",
    "    numerator = 2**num + 1\n",
    "    denominator = 2*num + 1\n",
    "    return numerator % denominator == 0\n",
    "\n",
    "# example usage\n",
    "print(is_curzon_number(5))"
   ]
  },
  {
   "cell_type": "markdown",
   "id": "22978c2f",
   "metadata": {},
   "source": [
    "Question 4.\n",
    "Given the side length x find the area of a hexagon."
   ]
  },
  {
   "cell_type": "code",
   "execution_count": 4,
   "id": "8ccdf5e3",
   "metadata": {},
   "outputs": [
    {
     "name": "stdout",
     "output_type": "stream",
     "text": [
      "64.95\n"
     ]
    }
   ],
   "source": [
    "import math\n",
    "\n",
    "def hexagon_area(x):\n",
    "    return round(3*math.sqrt(3)/2 * x**2, 2)\n",
    "\n",
    "# example usage\n",
    "print(hexagon_area(5))"
   ]
  },
  {
   "cell_type": "markdown",
   "id": "ad0aa63f",
   "metadata": {},
   "source": [
    "Question 5. \n",
    "Create a function that returns a base-2 (binary) representation of a base-10\n",
    "(decimal) string number. To convert is simple: ((2) means base-2 and (10) means base-10)\n",
    "010101001(2) = 1 + 8 + 32 + 128.\n",
    "Going from right to left, the value of the most right bit is 1, now from that every bit to the left\n",
    "will be x2 the value, value of an 8 bit binary numbers are (256, 128, 64, 32, 16, 8, 4, 2, 1)."
   ]
  },
  {
   "cell_type": "code",
   "execution_count": 7,
   "id": "89d2794d",
   "metadata": {},
   "outputs": [
    {
     "name": "stdout",
     "output_type": "stream",
     "text": [
      "101\n"
     ]
    }
   ],
   "source": [
    "def decimal_to_binary(decimal_num):\n",
    "    decimal_num = int(decimal_num)\n",
    "    binary_num = \"\"\n",
    "    while decimal_num > 0:\n",
    "        remainder = decimal_num % 2\n",
    "        binary_num = str(remainder) + binary_num\n",
    "        decimal_num //= 2\n",
    "    return binary_num\n",
    "\n",
    "# example usage\n",
    "print(decimal_to_binary(\"5\"))"
   ]
  },
  {
   "cell_type": "code",
   "execution_count": null,
   "id": "3ec6a638",
   "metadata": {},
   "outputs": [],
   "source": []
  }
 ],
 "metadata": {
  "kernelspec": {
   "display_name": "Python 3 (ipykernel)",
   "language": "python",
   "name": "python3"
  },
  "language_info": {
   "codemirror_mode": {
    "name": "ipython",
    "version": 3
   },
   "file_extension": ".py",
   "mimetype": "text/x-python",
   "name": "python",
   "nbconvert_exporter": "python",
   "pygments_lexer": "ipython3",
   "version": "3.9.12"
  }
 },
 "nbformat": 4,
 "nbformat_minor": 5
}
