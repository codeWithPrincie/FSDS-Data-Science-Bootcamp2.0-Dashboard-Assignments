{
 "cells": [
  {
   "cell_type": "code",
   "execution_count": 1,
   "id": "34663faa",
   "metadata": {},
   "outputs": [
    {
     "data": {
      "text/plain": [
       "3"
      ]
     },
     "execution_count": 1,
     "metadata": {},
     "output_type": "execute_result"
    }
   ],
   "source": [
    "##  Count the number of times iNeuron appears in the string.\n",
    "\n",
    "\n",
    "\n",
    "text = \"Welcome to iNeuron, You are a part of FSDS Bootcamp 2 in iNeuron. I hope you are enjoying the course by iNeuron\"\n",
    "text.count(\"iNeuron\")"
   ]
  },
  {
   "cell_type": "code",
   "execution_count": 5,
   "id": "6aaf653e",
   "metadata": {},
   "outputs": [
    {
     "name": "stdout",
     "output_type": "stream",
     "text": [
      "Not end with iNeuron\n"
     ]
    }
   ],
   "source": [
    "##  Check if position 5 to 11 ends with the phrase iNeuron. in the string\n",
    "\n",
    "\n",
    "txt = \"Hello, welcome to FSDS 2.0 at iNeuron.\"\n",
    "string= \"iNeuron\"\n",
    " \n",
    "txt1 = txt[5:11]\n",
    "if string in txt1:\n",
    "    print(\"End with the phrase iNeuron.\")\n",
    "else:\n",
    "    print(\"Not end with iNeuron\")"
   ]
  },
  {
   "cell_type": "code",
   "execution_count": 6,
   "id": "8f1ec96d",
   "metadata": {},
   "outputs": [
    {
     "data": {
      "text/plain": [
       "'My#name#is#Rishav#Dash'"
      ]
     },
     "execution_count": 6,
     "metadata": {},
     "output_type": "execute_result"
    }
   ],
   "source": [
    "##  Join all items in a list into a string, using a hash(#) character as separator:\n",
    "\n",
    "\n",
    "LIST = [\"My\", \"name\", \"is\", \"Rishav\", \"Dash\"]\n",
    "\"#\".join(LIST)"
   ]
  },
  {
   "cell_type": "code",
   "execution_count": 9,
   "id": "3892c292",
   "metadata": {},
   "outputs": [
    {
     "name": "stdout",
     "output_type": "stream",
     "text": [
      "False\n",
      "<built-in method isdecimal of str object at 0x000001838F0B74F0>\n"
     ]
    }
   ],
   "source": [
    "##  Write example for the following string manipulation function,\n",
    "\n",
    "\n",
    "string = \"My name is Omkar Dighe\"\n",
    "a = \"\\u0030\"\n",
    "\n",
    "S1= string.isdecimal() \n",
    "S2= a.isdecimal\n",
    "\n",
    "print(S1)\n",
    "print(S2)"
   ]
  },
  {
   "cell_type": "code",
   "execution_count": 11,
   "id": "b643d056",
   "metadata": {},
   "outputs": [
    {
     "name": "stdout",
     "output_type": "stream",
     "text": [
      "True\n",
      "False\n"
     ]
    }
   ],
   "source": [
    "string1 = \"MY NAME IS OMKAR\"\n",
    "string2 = \"My name is omkar\"\n",
    "\n",
    "S1= string1.isupper()\n",
    "S2= string2.isupper()\n",
    "\n",
    "print(S1)\n",
    "print(S2)"
   ]
  },
  {
   "cell_type": "code",
   "execution_count": 13,
   "id": "2c60cdab",
   "metadata": {},
   "outputs": [
    {
     "name": "stdout",
     "output_type": "stream",
     "text": [
      "False\n",
      "True\n"
     ]
    }
   ],
   "source": [
    "string1 = \"MY NAME IS OMKAR\"\n",
    "string2 = \"my name is omkar\"\n",
    "\n",
    "S1= string1.islower()\n",
    "S2= string2.islower()\n",
    "\n",
    "print(S1)\n",
    "print(S2)"
   ]
  },
  {
   "cell_type": "code",
   "execution_count": 22,
   "id": "f58bb5e2",
   "metadata": {},
   "outputs": [
    {
     "name": "stdout",
     "output_type": "stream",
     "text": [
      "True\n",
      "False\n"
     ]
    }
   ],
   "source": [
    "string1 = \"Omkardighe\"\n",
    "string2 = \"Omkar15\"\n",
    "\n",
    "S1= string1.isalpha()\n",
    "S2= string2.isalpha()\n",
    "\n",
    "print(S1)\n",
    "print(S2)"
   ]
  },
  {
   "cell_type": "code",
   "execution_count": 23,
   "id": "bfec67f6",
   "metadata": {},
   "outputs": [
    {
     "name": "stdout",
     "output_type": "stream",
     "text": [
      "False\n",
      "True\n"
     ]
    }
   ],
   "source": [
    "string1 = \"OMKAR\"\n",
    "string2 = \"123456789\"\n",
    "\n",
    "S1= string1.isnumeric()\n",
    "S2= string2.isnumeric()\n",
    "\n",
    "print(S1)\n",
    "print(S2)"
   ]
  },
  {
   "cell_type": "code",
   "execution_count": null,
   "id": "b0e5597f",
   "metadata": {},
   "outputs": [],
   "source": [
    "##  Indian PAN card format follows the following formats -\n",
    "\n",
    "##    AYEPC7894X\n",
    "##    ABCDE9999Y Take user input for PAN_CARD and validate as per the above example.\n",
    "\n",
    "\n"
   ]
  }
 ],
 "metadata": {
  "kernelspec": {
   "display_name": "Python 3 (ipykernel)",
   "language": "python",
   "name": "python3"
  },
  "language_info": {
   "codemirror_mode": {
    "name": "ipython",
    "version": 3
   },
   "file_extension": ".py",
   "mimetype": "text/x-python",
   "name": "python",
   "nbconvert_exporter": "python",
   "pygments_lexer": "ipython3",
   "version": "3.9.12"
  }
 },
 "nbformat": 4,
 "nbformat_minor": 5
}
