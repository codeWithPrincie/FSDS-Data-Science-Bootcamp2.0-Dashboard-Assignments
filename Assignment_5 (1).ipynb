{
 "cells": [
  {
   "cell_type": "markdown",
   "id": "9a9c4b6c",
   "metadata": {},
   "source": [
    "1.   What does an empty dictionary&#39;s code look like?\n",
    "\n",
    "Ans: To create an empty dictionary, the dictionary should be set to {}.\n",
    "     This is shown in the code below.\n",
    "     items = {}"
   ]
  },
  {
   "cell_type": "markdown",
   "id": "462a2007",
   "metadata": {},
   "source": [
    "2.   What is the value of a dictionary value with the key 'foo' and the value 42?\n",
    "\n",
    "Ans: {'foo': 42}"
   ]
  },
  {
   "cell_type": "markdown",
   "id": "26a8af60",
   "metadata": {},
   "source": [
    "3.   What is the most significant distinction between a dictionary and a list?\n",
    "\n",
    "Ans: The items stored in a dictionary are unordered, while the items in a list are ordered."
   ]
  },
  {
   "cell_type": "markdown",
   "id": "e634be9d",
   "metadata": {},
   "source": [
    "4.   What happens if you try to access spam['foo'] if spam is {'bar': 100}?\n",
    "\n",
    "Ans: You get a KeyError error."
   ]
  },
  {
   "cell_type": "markdown",
   "id": "540819e1",
   "metadata": {},
   "source": [
    "5.   If a dictionary is stored in spam, what is the difference between the expressions 'cat' in spam and\n",
    "     'cat' in spam.keys()?\n",
    "     \n",
    "Ans: There is no difference. The in operator checks whether a value exists as a key in the dictionary."
   ]
  },
  {
   "cell_type": "markdown",
   "id": "1d094fa3",
   "metadata": {},
   "source": [
    "6.   If a dictionary is stored in spam, what is the difference between the expressions 'cat' in spam and\n",
    "     'cat' in spam.values()?\n",
    "     \n",
    "Ans: 'cat' in spam checks whether there is a 'cat' key in the dictionary, while 'cat' in spam.values() checks whether there is      a value 'cat' for one of the keys in spam."
   ]
  },
  {
   "cell_type": "markdown",
   "id": "ea1129e8",
   "metadata": {},
   "source": [
    "7.   What is a shortcut for the following code?\n",
    "     if 'color' not in spam:\n",
    "     spam['color'] = 'black'\n",
    "     \n",
    "Ans: spam.setdefault('color', 'black')"
   ]
  },
  {
   "cell_type": "markdown",
   "id": "42610f42",
   "metadata": {},
   "source": [
    "8.   How do you \"pretty print\" dictionary values using which module and function?\n",
    "\n",
    "Ans: pprint.pprint()"
   ]
  }
 ],
 "metadata": {
  "kernelspec": {
   "display_name": "Python 3 (ipykernel)",
   "language": "python",
   "name": "python3"
  },
  "language_info": {
   "codemirror_mode": {
    "name": "ipython",
    "version": 3
   },
   "file_extension": ".py",
   "mimetype": "text/x-python",
   "name": "python",
   "nbconvert_exporter": "python",
   "pygments_lexer": "ipython3",
   "version": "3.9.12"
  }
 },
 "nbformat": 4,
 "nbformat_minor": 5
}
