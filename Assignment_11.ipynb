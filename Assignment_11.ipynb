{
 "cells": [
  {
   "cell_type": "markdown",
   "id": "0bafd882",
   "metadata": {},
   "source": [
    "1.   Create an assert statement that throws an AssertionError if the variable spam is a negative\n",
    "     integer.\n",
    "     \n",
    "Ans: assert(spam >= 0, 'The spam variable is negative integer.')"
   ]
  },
  {
   "cell_type": "markdown",
   "id": "53c8aab1",
   "metadata": {},
   "source": [
    "2.   Write an assert statement that triggers an AssertionError if the variables eggs and bacon contain\n",
    "     strings that are the same as each other, even if their cases are different (that is, 'hello' and 'hello'\n",
    "     areconsidered the same, and 'goodbye' and 'GOODbye' are also considered the same).\n",
    "     \n",
    "Ans: assert(eggs.lower() != bacon.lower(), 'The eggs and bacon variables are the same!') or assert(eggs.upper() !=                  bacon.upper(), 'The eggs and bacon variables are the same!')"
   ]
  },
  {
   "cell_type": "markdown",
   "id": "39eaad55",
   "metadata": {},
   "source": [
    "3.   Create an assert statement that throws an AssertionError every time.\n",
    "\n",
    "Ans: assert(False, 'This assertion always triggers.')"
   ]
  },
  {
   "cell_type": "markdown",
   "id": "dd968e7d",
   "metadata": {},
   "source": [
    "4.   What are the two lines that must be present in your software in order to call logging.debug()?\n",
    "\n",
    "Ans: To be able to call logging.debug(), you must have these two lines at the start of your program: import logging                  logging.basicConfig(level=logging.DEBUG, format=' %(asctime)s - %(levelname)s - %(message)s')"
   ]
  },
  {
   "cell_type": "markdown",
   "id": "152c2143",
   "metadata": {},
   "source": [
    "5.   What are the two lines that your program must have in order to have logging.debug() send a\n",
    "     logging message to a file named programLog.txt?\n"
   ]
  },
  {
   "cell_type": "code",
   "execution_count": null,
   "id": "7d8cc8eb",
   "metadata": {},
   "outputs": [],
   "source": [
    "import logging \n",
    "\n",
    "logging.basicConfig(filename='programLog.txt', level=logging.DEBUG, format=' %(asctime)s - %(levelname)s - %(message)s')"
   ]
  },
  {
   "cell_type": "markdown",
   "id": "5a71b0c1",
   "metadata": {},
   "source": [
    "6.   What are the five levels of logging?\n",
    "\n",
    "Ans: DEBUG, INFO, WARNING, ERROR, and CRITICAL"
   ]
  },
  {
   "cell_type": "markdown",
   "id": "6821cfaa",
   "metadata": {},
   "source": [
    "7.   What line of code would you add to your software to disable all logging messages?\n",
    "\n",
    "Ans: logging.disable(logging.CRITICAL)"
   ]
  },
  {
   "cell_type": "markdown",
   "id": "796699ff",
   "metadata": {},
   "source": [
    "8.   Why is using logging messages better than using print() to display the same message?\n",
    "\n",
    "Ans: You can disable logging messages without removing the logging function calls. You can selectively disable lower-level          logging messages. You can create logging messages. Logging messages provides a timestamp."
   ]
  },
  {
   "cell_type": "markdown",
   "id": "802ed43a",
   "metadata": {},
   "source": [
    "9.   What are the differences between the Step Over, Step In, and Step Out buttons in the debugger?\n",
    "\n",
    "Ans: Step Into will cause the debugger to go into the next function call and break there. Step Over will tell the debugger to        execute the next function and break afterwards. Step Out will tell the debugger to finish the current function and break        after it."
   ]
  },
  {
   "cell_type": "markdown",
   "id": "40c47d41",
   "metadata": {},
   "source": [
    "10.  After you click Continue, when will the debugger stop ?\n",
    "\n",
    "Ans: Continue execution, only stop when a breakpoint is encountered. Set the next line that will be executed. Only available in      the bottom-most frame. This lets you jump back and execute code again, or jump forward to skip code that you don't want to      run."
   ]
  },
  {
   "cell_type": "markdown",
   "id": "669a0ad5",
   "metadata": {},
   "source": [
    "11.  What is the concept of a breakpoint?\n",
    "\n",
    "Ans: A breakpoint can be set on a specific line of code and forces the debugger to pause whenever the program execution reaches      that line."
   ]
  }
 ],
 "metadata": {
  "kernelspec": {
   "display_name": "Python 3 (ipykernel)",
   "language": "python",
   "name": "python3"
  },
  "language_info": {
   "codemirror_mode": {
    "name": "ipython",
    "version": 3
   },
   "file_extension": ".py",
   "mimetype": "text/x-python",
   "name": "python",
   "nbconvert_exporter": "python",
   "pygments_lexer": "ipython3",
   "version": "3.9.12"
  }
 },
 "nbformat": 4,
 "nbformat_minor": 5
}
