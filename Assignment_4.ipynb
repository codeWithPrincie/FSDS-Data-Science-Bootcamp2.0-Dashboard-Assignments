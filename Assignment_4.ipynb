{
 "cells": [
  {
   "cell_type": "markdown",
   "id": "ed485282",
   "metadata": {},
   "source": [
    "1.   What exactly is []?\n",
    "\n",
    "Ans: The empty list value, which is a list value that contains no items. This is similar to how '' is the empty string value."
   ]
  },
  {
   "cell_type": "markdown",
   "id": "151d28a1",
   "metadata": {},
   "source": [
    "2.   In a list of values stored in a variable called spam, how would you assign the value 'hello' as the\n",
    "     third value? (Assume [2, 4, 6, 8, 10] are in spam.)\n",
    "     \n",
    "Ans: spam[2] = 'hello' (Notice that the third value in a list is at index 2 because the first index is 0.)"
   ]
  },
  {
   "cell_type": "markdown",
   "id": "12545a7b",
   "metadata": {},
   "source": [
    "  Lets pretend the spam includes the list['a', 'b', 'c', 'd'].for the next three queries."
   ]
  },
  {
   "cell_type": "markdown",
   "id": "174c73a5",
   "metadata": {},
   "source": [
    "3.   What is the value of spam[int(int('3' * 2) / 11)]?\n",
    "\n",
    "Ans: 'd' (Note that '3' * 2 is the string '33', which is passed to int() before being divided by 11. This eventually evaluates      to 3. Expressions can be used wherever values are used.)"
   ]
  },
  {
   "cell_type": "markdown",
   "id": "4e795f20",
   "metadata": {},
   "source": [
    "4.   What is the value of spam[-1]?\n",
    "\n",
    "Ans: 'd' (Negative indexes count from the end.)"
   ]
  },
  {
   "cell_type": "markdown",
   "id": "340853c6",
   "metadata": {},
   "source": [
    "5.   What is the value of spam[:2]?\n",
    "\n",
    "Ans: ['a', 'b']"
   ]
  },
  {
   "cell_type": "markdown",
   "id": "0881b00d",
   "metadata": {},
   "source": [
    "Let&#39;s pretend bacon has the list [3.14, 'cat', 11, 'cat', True] for the next three questions."
   ]
  },
  {
   "cell_type": "markdown",
   "id": "60a02fee",
   "metadata": {},
   "source": [
    "6.   What is the value of bacon.index('cat')?\n",
    "\n",
    "Ans: 1"
   ]
  },
  {
   "cell_type": "markdown",
   "id": "8370a20c",
   "metadata": {},
   "source": [
    "7.   How does bacon.append(99) change the look of the list value in bacon?\n",
    "\n",
    "Ans: [3.14, 'cat', 11, 'cat', True, 99]"
   ]
  },
  {
   "cell_type": "markdown",
   "id": "74feb5d2",
   "metadata": {},
   "source": [
    "8.   How does bacon.remove('cat') change the look of the list in bacon?\n",
    "\n",
    "Ans: [3.14, 11, 'cat', True]"
   ]
  },
  {
   "cell_type": "markdown",
   "id": "d86f64e2",
   "metadata": {},
   "source": [
    "9.   What are the list concatenation and list replication operators?\n",
    "\n",
    "Ans: The operator for list concatenation is +, while the operator for replication is *."
   ]
  },
  {
   "cell_type": "markdown",
   "id": "58e504ed",
   "metadata": {},
   "source": [
    "10.  What is difference between the list methods append() and insert()?\n",
    "\n",
    "Ans: While append() will add values only to the end of a list, insert() can add them anywhere in the list."
   ]
  },
  {
   "cell_type": "markdown",
   "id": "b80e7988",
   "metadata": {},
   "source": [
    "11.  What are the two methods for removing items from a list?\n",
    "\n",
    "Ans: The del statement and the remove() list method are two ways to remove values from a list."
   ]
  },
  {
   "cell_type": "markdown",
   "id": "6e402dbd",
   "metadata": {},
   "source": [
    "12.  Describe how list values and string values are identical.\n",
    "\n",
    "Ans: Both lists and strings can be passed to len(), have indexes and slices, be used in for loops, be concatenated or                replicated, and be used with the in and not in operators."
   ]
  },
  {
   "cell_type": "markdown",
   "id": "38035cf0",
   "metadata": {},
   "source": [
    "13.  Whats the difference between tuples and lists?\n",
    "\n",
    "Ans: Lists are mutable; they can have values added, removed, or changed. Tuples are immutable; they cannot be changed at all.        Also, tuples are written using parentheses, ( and ), while lists use the square brackets, [ and ]."
   ]
  },
  {
   "cell_type": "markdown",
   "id": "66acc85e",
   "metadata": {},
   "source": [
    "14.  How do you type a tuple value that only contains the integer 42?\n",
    "\n",
    "Ans: (42,) (The trailing comma is mandatory.)"
   ]
  },
  {
   "cell_type": "markdown",
   "id": "e28f569c",
   "metadata": {},
   "source": [
    "15.  How do you get a list values tuple form? How do you get a tuple values list form?\n",
    "\n",
    "Ans: The tuple() and list() functions, respectively"
   ]
  },
  {
   "cell_type": "markdown",
   "id": "3562bc68",
   "metadata": {},
   "source": [
    "16.  Variables that \"contain\" list values are not necessarily lists themselves. Instead, what do they contain?\n",
    "\n",
    "Ans: They contain references to list values."
   ]
  },
  {
   "cell_type": "markdown",
   "id": "822bd3b3",
   "metadata": {},
   "source": [
    "17.  How do you distinguish between copy.copy() and copy.deepcopy()?\n",
    "\n",
    "Ans: The copy.copy() function will do a shallow copy of a list, while the copy.deepcopy() function will do a deep copy of a          list. That is, only copy.deepcopy() will duplicate any lists inside the list."
   ]
  }
 ],
 "metadata": {
  "kernelspec": {
   "display_name": "Python 3 (ipykernel)",
   "language": "python",
   "name": "python3"
  },
  "language_info": {
   "codemirror_mode": {
    "name": "ipython",
    "version": 3
   },
   "file_extension": ".py",
   "mimetype": "text/x-python",
   "name": "python",
   "nbconvert_exporter": "python",
   "pygments_lexer": "ipython3",
   "version": "3.9.12"
  }
 },
 "nbformat": 4,
 "nbformat_minor": 5
}
