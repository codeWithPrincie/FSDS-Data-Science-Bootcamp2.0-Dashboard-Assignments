{
 "cells": [
  {
   "cell_type": "markdown",
   "id": "52cf1e36",
   "metadata": {},
   "source": [
    "1.   What are escape characters, and how do you use them?\n",
    "\n",
    "Ans: Escape characters represent characters in string values that would otherwise be difficult or impossible to type into code.\n",
    "     An escape character is a backslash \\ followed by the character you want to insert."
   ]
  },
  {
   "cell_type": "markdown",
   "id": "6a5d73f6",
   "metadata": {},
   "source": [
    "2.   What do the escape characters n and t stand for?\n",
    "\n",
    "Ans: \\n is a newline; \\t is a tab."
   ]
  },
  {
   "cell_type": "markdown",
   "id": "a1ba1010",
   "metadata": {},
   "source": [
    "3.   What is the way to include backslash characters in a string?\n",
    "\n",
    "Ans: The \\\\ escape character will represent a backslash character."
   ]
  },
  {
   "cell_type": "markdown",
   "id": "242bbda7",
   "metadata": {},
   "source": [
    "4.   The string \"Howl's Moving Castle\" is a correct value. Why isn't the single quote character in the\n",
    "     word Howl's not escaped a problem?\n",
    "   \n",
    "Ans: The single quote in Howl's is fine because you've used double quotes to mark the beginning and end of the string."
   ]
  },
  {
   "cell_type": "markdown",
   "id": "fd33fad5",
   "metadata": {},
   "source": [
    "5.   How do you write a string of newlines if you don't want to use the n character?\n",
    "\n",
    "Ans: Multiline strings allow you to use newlines in strings without the \\n escape character."
   ]
  },
  {
   "cell_type": "markdown",
   "id": "a04dddfd",
   "metadata": {},
   "source": [
    "6.   What are the values of the given expressions?\n",
    "     'Hello,world!'[1],\n",
    "     'Hello,world!'[0:5],\n",
    "     'Hello,world!'[:5],\n",
    "     'Hello,world!'[3:].\n",
    "     \n",
    "Ans: 'e',\n",
    "     'Hello',\n",
    "     'Hello',\n",
    "     'lo,world!."
   ]
  },
  {
   "cell_type": "markdown",
   "id": "e7c6620a",
   "metadata": {},
   "source": [
    "7.   What are the values of the following expressions?\n",
    "     'Hello'.upper(),\n",
    "     'Hello'.upper().isupper(),\n",
    "     'Hello'.upper().lower().\n",
    "\n",
    "Ans: 'HELLO',\n",
    "     True,\n",
    "     'hello'."
   ]
  },
  {
   "cell_type": "markdown",
   "id": "a0a8712d",
   "metadata": {},
   "source": [
    "8.   What are the values of the following expressions?\n",
    "     'Remember, remember, the fifth of November.'.split(),\n",
    "     '-'.join('There can be only one.'.split()).\n",
    "\n",
    "Ans: ['Remember,', 'remember,', 'the', 'fifth', 'of', 'November.'],\n",
    "     'There-can-be-only-one.'"
   ]
  },
  {
   "cell_type": "markdown",
   "id": "7a03b696",
   "metadata": {},
   "source": [
    "9.   What are the methods for right-justifying, left-justifying, and centering a string?\n",
    "\n",
    "Ans: The rjust(), ljust(), and center() string methods, respectively"
   ]
  },
  {
   "cell_type": "markdown",
   "id": "fedcda99",
   "metadata": {},
   "source": [
    "10.  What is the best way to remove whitespace characters from the start or end?\n",
    "\n",
    "Ans: The lstrip() and rstrip() methods remove whitespace from the left and right ends of a string, respectively."
   ]
  }
 ],
 "metadata": {
  "kernelspec": {
   "display_name": "Python 3 (ipykernel)",
   "language": "python",
   "name": "python3"
  },
  "language_info": {
   "codemirror_mode": {
    "name": "ipython",
    "version": 3
   },
   "file_extension": ".py",
   "mimetype": "text/x-python",
   "name": "python",
   "nbconvert_exporter": "python",
   "pygments_lexer": "ipython3",
   "version": "3.9.12"
  }
 },
 "nbformat": 4,
 "nbformat_minor": 5
}
