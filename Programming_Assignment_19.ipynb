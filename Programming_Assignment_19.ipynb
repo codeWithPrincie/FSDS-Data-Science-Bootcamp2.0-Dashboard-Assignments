{
 "cells": [
  {
   "cell_type": "markdown",
   "id": "9ffd733a",
   "metadata": {},
   "source": [
    "Question1\n",
    "Create a function that takes a string and returns a string in which each character is repeated\n",
    "once."
   ]
  },
  {
   "cell_type": "code",
   "execution_count": 1,
   "id": "02006ee9",
   "metadata": {},
   "outputs": [
    {
     "name": "stdout",
     "output_type": "stream",
     "text": [
      "hheelllloo\n"
     ]
    }
   ],
   "source": [
    "def repeat_characters(input_str):\n",
    "    return \"\".join(char*2 for char in input_str)\n",
    "\n",
    "# example usage\n",
    "print(repeat_characters(\"hello\"))"
   ]
  },
  {
   "cell_type": "markdown",
   "id": "87337e7e",
   "metadata": {},
   "source": [
    "Question2\n",
    "Create a function that reverses a boolean value and returns the string &quot;boolean expected&quot;\n",
    "if another variable type is given."
   ]
  },
  {
   "cell_type": "code",
   "execution_count": 2,
   "id": "81f2f3da",
   "metadata": {},
   "outputs": [
    {
     "name": "stdout",
     "output_type": "stream",
     "text": [
      "False\n",
      "boolean expected\n"
     ]
    }
   ],
   "source": [
    "def reverse_boolean(bool_value):\n",
    "    if type(bool_value) == bool:\n",
    "        return not bool_value\n",
    "    else:\n",
    "        return \"boolean expected\"\n",
    "\n",
    "# example usage\n",
    "print(reverse_boolean(True))\n",
    "print(reverse_boolean(\"True\"))"
   ]
  },
  {
   "cell_type": "markdown",
   "id": "121f0b02",
   "metadata": {},
   "source": [
    "Question3\n",
    "Create a function that returns the thickness (in meters) of a piece of paper after folding it n\n",
    "number of times. The paper starts off with a thickness of 0.5mm."
   ]
  },
  {
   "cell_type": "code",
   "execution_count": 3,
   "id": "b5a01cbc",
   "metadata": {},
   "outputs": [
    {
     "name": "stdout",
     "output_type": "stream",
     "text": [
      "0.004\n"
     ]
    }
   ],
   "source": [
    "def paper_thickness(n):\n",
    "    # convert 0.5mm to meters\n",
    "    thickness = 0.0005\n",
    "    \n",
    "    # double the thickness of the paper n times\n",
    "    for i in range(n):\n",
    "        thickness *= 2\n",
    "    \n",
    "    return thickness\n",
    "\n",
    "# example usage\n",
    "print(paper_thickness(3))  # prints 0.004"
   ]
  },
  {
   "cell_type": "markdown",
   "id": "b9562cc9",
   "metadata": {},
   "source": [
    "Question4\n",
    "Create a function that takes a single string as argument and returns an ordered list containing\n",
    "the indices of all capital letters in the string."
   ]
  },
  {
   "cell_type": "code",
   "execution_count": 4,
   "id": "ea861165",
   "metadata": {},
   "outputs": [
    {
     "name": "stdout",
     "output_type": "stream",
     "text": [
      "[0, 6]\n"
     ]
    }
   ],
   "source": [
    "def capital_indices(s):\n",
    "    # create an empty list to store the indices of capital letters\n",
    "    indices = []\n",
    "    \n",
    "    # iterate through the string and check if each character is a capital letter\n",
    "    for i in range(len(s)):\n",
    "        if s[i].isupper():\n",
    "            indices.append(i)\n",
    "    \n",
    "    # return the list of capital letter indices\n",
    "    return indices\n",
    "\n",
    "# example usage\n",
    "print(capital_indices(\"Hello World\"))  # prints [0, 1, 2, 8]"
   ]
  },
  {
   "cell_type": "markdown",
   "id": "7b4d9448",
   "metadata": {},
   "source": [
    "Question5\n",
    "Using list comprehensions, create a function that finds all even numbers from 1 to the given\n",
    "number."
   ]
  },
  {
   "cell_type": "code",
   "execution_count": 5,
   "id": "55af6b25",
   "metadata": {},
   "outputs": [
    {
     "name": "stdout",
     "output_type": "stream",
     "text": [
      "[2, 4, 6, 8, 10]\n"
     ]
    }
   ],
   "source": [
    "def find_even_numbers(n):\n",
    "    # use list comprehension to create a list of even numbers\n",
    "    even_numbers = [i for i in range(1, n+1) if i % 2 == 0]\n",
    "    \n",
    "    # return the list of even numbers\n",
    "    return even_numbers\n",
    "\n",
    "# example usage\n",
    "print(find_even_numbers(10))"
   ]
  },
  {
   "cell_type": "code",
   "execution_count": null,
   "id": "0c4ed913",
   "metadata": {},
   "outputs": [],
   "source": []
  }
 ],
 "metadata": {
  "kernelspec": {
   "display_name": "Python 3 (ipykernel)",
   "language": "python",
   "name": "python3"
  },
  "language_info": {
   "codemirror_mode": {
    "name": "ipython",
    "version": 3
   },
   "file_extension": ".py",
   "mimetype": "text/x-python",
   "name": "python",
   "nbconvert_exporter": "python",
   "pygments_lexer": "ipython3",
   "version": "3.9.12"
  }
 },
 "nbformat": 4,
 "nbformat_minor": 5
}
